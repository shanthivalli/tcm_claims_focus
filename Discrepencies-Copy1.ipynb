{
 "cells": [
  {
   "cell_type": "code",
   "execution_count": 1,
   "id": "24ccb7e5-5231-40fe-a814-a60eb623b2c6",
   "metadata": {},
   "outputs": [],
   "source": [
    "import pandas as pd\n",
    "import difflib\n",
    "\n",
    "# Load the Excel file\n",
    "file_path = './Downloads/BatchingTool_DataProcessing_837SubmissionSupports_TCM_202406_20241007v6_SignedOff.xlsm'\n",
    "\n",
    "df1 = pd.read_excel(file_path, sheet_name='RawDataDetails')"
   ]
  },
  {
   "cell_type": "code",
   "execution_count": 2,
   "id": "676d5f82-1470-4244-ba45-f76a9c2bbdae",
   "metadata": {},
   "outputs": [],
   "source": [
    "masterdf = pd.read_excel(\"./Downloads/tcm/Master_db.xlsx\")"
   ]
  },
  {
   "cell_type": "code",
   "execution_count": 3,
   "id": "a16433cd-f5bf-44aa-83a4-a489ed0f4993",
   "metadata": {},
   "outputs": [],
   "source": [
    "masterdf_selected = masterdf[['MEMBER ID', 'LAST NAME', 'FIRST NAME', 'MedicaidID', \"DOB\"]]"
   ]
  },
  {
   "cell_type": "code",
   "execution_count": 5,
   "id": "e2e5aa62-b7e8-4996-beb7-3e7da143ca47",
   "metadata": {},
   "outputs": [],
   "source": [
    "df1[['FIRST NAME', 'LAST NAME']] = df1['MEMBER NAME'].str.split(n=1, expand=True)"
   ]
  },
  {
   "cell_type": "code",
   "execution_count": 6,
   "id": "743d9c7b-d266-4c30-a9f1-377865bd781e",
   "metadata": {},
   "outputs": [],
   "source": [
    "df1[\"FIRST NAME\"] = df1[\"FIRST NAME\"].str.upper()\n",
    "# Clean and reduce last name to the last word only\n",
    "df1['LAST NAME'] = (\n",
    "    df1['LAST NAME']\n",
    "    .str.strip()  # remove leading/trailing spaces\n",
    "    .str.replace(r'[\\t\\n\\r\\f\\v]+', '', regex=True)  # remove escape characters\n",
    "    .str.split()  # split into words\n",
    "    .str[-1]  # take only the last word\n",
    "    .str.upper()  # convert to uppercase\n",
    ")"
   ]
  },
  {
   "cell_type": "code",
   "execution_count": 7,
   "id": "583c4d35-0c5d-49a0-9831-73155ca6742f",
   "metadata": {},
   "outputs": [],
   "source": [
    "df1_selected = df1[[\"MEMBER NAME\", \"MEMBER ID\",\"DATE OF SERVICE\",\"MEMBER DOB\", \"MEDICAID ID\", \"FIRST NAME\", \"LAST NAME\",\"TCM HOURS\",\"TCM UNITS\",\"ICD 10\",\"CPT CODE\"]]"
   ]
  },
  {
   "cell_type": "code",
   "execution_count": 8,
   "id": "893799e2-12d4-4870-80bc-a6e950c4ed97",
   "metadata": {
    "scrolled": true
   },
   "outputs": [
    {
     "name": "stdout",
     "output_type": "stream",
     "text": [
      "Original record count: 671\n",
      "Corrected record count: 671\n",
      "\n",
      "Number of changes made in each column:\n",
      "MEMBER NAME         0\n",
      "MEMBER ID           0\n",
      "DATE OF SERVICE     0\n",
      "MEMBER DOB          0\n",
      "MEDICAID ID        20\n",
      "FIRST NAME         52\n",
      "LAST NAME          55\n",
      "TCM HOURS           0\n",
      "TCM UNITS           0\n",
      "ICD 10              0\n",
      "CPT CODE            0\n",
      "dtype: int64\n",
      "\n",
      "Records with duplicate Medicaid IDs:\n",
      "            MEMBER NAME  MEMBER ID DATE OF SERVICE MEMBER DOB MEDICAID ID  \\\n",
      "0    Alan M \\tStenglein        838      2025-01-06 1953-10-20     S527787   \n",
      "1    Alan M \\tStenglein        838      2025-01-30 1953-10-20     S527787   \n",
      "2    Alan M \\tStenglein        838      2025-01-30 1953-10-20     S527787   \n",
      "3    Alan M \\tStenglein        838      2025-01-31 1953-10-20     S527787   \n",
      "4     Albert \\tArguello        836      2025-01-22 1952-05-14     J208643   \n",
      "..                  ...        ...             ...        ...         ...   \n",
      "666       Walter \\tBaum        751      2025-01-19 1964-07-01     O388696   \n",
      "667       Walter \\tBaum        751      2025-01-22 1964-07-01     O388696   \n",
      "668       Walter \\tBaum        751      2025-01-27 1964-07-01     O388696   \n",
      "669       Walter \\tBaum        751      2025-01-28 1964-07-01     O388696   \n",
      "670       Walter \\tBaum        751      2025-01-29 1964-07-01     O388696   \n",
      "\n",
      "    FIRST NAME  LAST NAME  TCM HOURS  TCM UNITS ICD 10 CPT CODE  \n",
      "0         ALAN  STENGLEIN       1.50        6.0   R99     T1017  \n",
      "1         ALAN  STENGLEIN       1.00        4.0   R99     T1017  \n",
      "2         ALAN  STENGLEIN       0.25        1.0   R99     T1017  \n",
      "3         ALAN  STENGLEIN       0.25        1.0   R99     T1017  \n",
      "4       ALBERT   ARGUELLO       0.50        2.0   R99     T1017  \n",
      "..         ...        ...        ...        ...    ...      ...  \n",
      "666     WALTER       BAUM       1.75        7.0   R99     T1017  \n",
      "667     WALTER       BAUM       3.00       12.0   R99     T1017  \n",
      "668     WALTER       BAUM       0.75        3.0   R99     T1017  \n",
      "669     WALTER       BAUM       0.75        3.0   R99     T1017  \n",
      "670     WALTER       BAUM       0.50        2.0   R99     T1017  \n",
      "\n",
      "[664 rows x 11 columns]\n"
     ]
    }
   ],
   "source": [
    "def correct_member_info(df1_selected, masterdf):\n",
    "    # Keep track of original records\n",
    "    result_df = df1_selected.copy()\n",
    "    \n",
    "    # Create a mapping dictionary from masterdf\n",
    "    master_mapping = {}\n",
    "    for _, row in masterdf.iterrows():\n",
    "        dob = row['DOB']\n",
    "        if dob not in master_mapping:\n",
    "            master_mapping[dob] = {\n",
    "                'FIRST NAME': row['FIRST NAME'],\n",
    "                'LAST NAME': row['LAST NAME'],\n",
    "                'MedicaidID': row['MedicaidID']\n",
    "            }\n",
    "    \n",
    "    def string_similarity(str1, str2):\n",
    "        if pd.isna(str1) or pd.isna(str2):\n",
    "            return 0\n",
    "        return difflib.SequenceMatcher(None, str1.lower(), str2.lower()).ratio()\n",
    "    \n",
    "    # Process each row in original dataframe\n",
    "    for idx, row in result_df.iterrows():\n",
    "        dob = row['MEMBER DOB']\n",
    "        if dob in master_mapping:\n",
    "            master_info = master_mapping[dob]\n",
    "            \n",
    "            # Check name similarity\n",
    "            first_name_match = string_similarity(row['FIRST NAME'], master_info['FIRST NAME'])\n",
    "            last_name_match = string_similarity(row['LAST NAME'], master_info['LAST NAME'])\n",
    "            \n",
    "            if (first_name_match + last_name_match) / 2 > 0.8:\n",
    "                result_df.at[idx, 'FIRST NAME'] = master_info['FIRST NAME']\n",
    "                result_df.at[idx, 'LAST NAME'] = master_info['LAST NAME']\n",
    "                result_df.at[idx, 'MEDICAID ID'] = master_info['MedicaidID']\n",
    "    \n",
    "    return result_df\n",
    "\n",
    "# Apply the correction\n",
    "corrected_df = correct_member_info(df1_selected, masterdf)\n",
    "\n",
    "# Verify the counts\n",
    "print(f\"Original record count: {len(df1_selected)}\")\n",
    "print(f\"Corrected record count: {len(corrected_df)}\")\n",
    "\n",
    "# Show some statistics about the corrections\n",
    "changes = (df1_selected != corrected_df).sum()\n",
    "print(\"\\nNumber of changes made in each column:\")\n",
    "print(changes)\n",
    "\n",
    "# Check for any remaining duplicate Medicaid IDs\n",
    "duplicates = corrected_df[corrected_df.duplicated(subset=['MEDICAID ID'], keep=False)]\n",
    "if not duplicates.empty:\n",
    "    print(\"\\nRecords with duplicate Medicaid IDs:\")\n",
    "    print(duplicates)"
   ]
  },
  {
   "cell_type": "code",
   "execution_count": 9,
   "id": "b08c3e0e-2c71-43ae-82c9-99f754d724ac",
   "metadata": {},
   "outputs": [],
   "source": [
    "corrected_df.to_csv('./correctedv1.csv')"
   ]
  },
  {
   "cell_type": "code",
   "execution_count": 15,
   "id": "e9b04392-30e1-4b07-a5e4-348ef68357bf",
   "metadata": {},
   "outputs": [
    {
     "name": "stdout",
     "output_type": "stream",
     "text": [
      "Records after combining same-day services:\n"
     ]
    }
   ],
   "source": [
    "# Group by Medicaid ID and Date of Service, then sum up TCM Hours and TCM Units\n",
    "grouped_df = corrected_df.groupby(['MEDICAID ID', 'DATE OF SERVICE']).agg({\n",
    "    'TCM HOURS': 'sum',\n",
    "    'TCM UNITS': 'sum',\n",
    "    'FIRST NAME': 'first',  # Keep first occurrence of these fields\n",
    "    'LAST NAME': 'first',\n",
    "    'MEMBER ID': 'first',\n",
    "    'MEMBER DOB': 'first',\n",
    "    'ICD 10': 'first',\n",
    "    'CPT CODE': 'first'\n",
    "}).reset_index()\n",
    "\n",
    "# Sort by Medicaid ID and Date of Service\n",
    "grouped_df = grouped_df.sort_values(['MEDICAID ID', 'DATE OF SERVICE'])\n",
    "\n",
    "print(\"Records after combining same-day services:\")"
   ]
  },
  {
   "cell_type": "code",
   "execution_count": 25,
   "id": "b9bd2727-1943-4cf6-b076-ba00df17bb96",
   "metadata": {
    "scrolled": true
   },
   "outputs": [],
   "source": [
    "# First create static values dictionary\n",
    "static_values = {\n",
    "    'npi': '1184543043',\n",
    "    'location_id': 'FOCUSCARE', \n",
    "    'cpt_proc_code': 'T2023',\n",
    "    'cpt_modifier': 'U1',\n",
    "    'rate': 26.75\n",
    "}\n",
    "\n",
    "# Add static and calculated columns to grouped_df\n",
    "grouped_df['[Claim Type]'] = 'Professional'\n",
    "grouped_df['[Payer]'] = 'Title XIX Payer'\n",
    "grouped_df['[Billing Provider ID]'] = static_values['npi']\n",
    "grouped_df['[ID Type]'] = 'NPI'\n",
    "grouped_df['[Provider Name]'] = 'FOCUS CARE SOLUTIONS INC.'\n",
    "grouped_df['[Location]'] = static_values['location_id']\n",
    "grouped_df['[Taxonomy]'] = '251B00000X'\n",
    "grouped_df['[Taxonomy Descriptions]'] = 'Case Management'\n",
    "grouped_df['[Transport Certification]'] = 'No'\n",
    "grouped_df['[Prov Signature on File]'] = 'Yes'\n",
    "grouped_df['[Diagnosis Type]'] = 'ICD-10-CM'\n",
    "grouped_df['[From Date]'] = pd.to_datetime(grouped_df['DATE OF SERVICE'])\n",
    "grouped_df['[To Date]'] = pd.to_datetime(grouped_df['DATE OF SERVICE'])\n",
    "grouped_df['[Place Of Service]'] = '12'\n",
    "grouped_df['[Procedure Code]'] = static_values['cpt_proc_code']\n",
    "grouped_df['[Modifiers]'] = static_values['cpt_modifier']\n",
    "grouped_df['[Diagnosis Pointers]'] = '1'\n",
    "grouped_df['[Unit Type]'] = 'Unit'\n",
    "grouped_df['[Rate]'] = static_values['rate']\n",
    "\n",
    "# Add calculated columns\n",
    "grouped_df['[Units]'] = grouped_df['TCM UNITS']  # Assuming this maps to TCM UNITS\n",
    "grouped_df['[Hours]'] = grouped_df['TCM HOURS']  # Assuming this maps to TCM HOURS\n",
    "grouped_df['[Charge Amount]'] = grouped_df['[Units]'] * grouped_df['[Rate]']\n",
    "grouped_df['[Check1_ReconUnits]'] = (grouped_df['[Hours]'] * 4) - grouped_df['[Units]']\n",
    "grouped_df['[Check1_ReconAmount]'] = (grouped_df['[Units]'] * grouped_df['[Rate]']) - grouped_df['[Charge Amount]']\n",
    "\n",
    "# # Display the first few rows to verify\n",
    "# print(\"\\nFirst few rows of updated grouped_df:\")\n",
    "# print(grouped_df.head())\n",
    "\n",
    "# # Display column names to verify all were added\n",
    "# print(\"\\nAll columns in updated grouped_df:\")\n",
    "# print(grouped_df.columns.tolist())"
   ]
  },
  {
   "cell_type": "code",
   "execution_count": 27,
   "id": "8ec4d90d-90c4-4f20-93e2-a622aae92b4f",
   "metadata": {},
   "outputs": [],
   "source": [
    "grouped_df.to_csv('./final_batch.csv')"
   ]
  },
  {
   "cell_type": "code",
   "execution_count": 16,
   "id": "be405e9c-c1f4-46fd-a3f1-d91d5f770030",
   "metadata": {},
   "outputs": [],
   "source": [
    "df2 = pd.read_excel(file_path, sheet_name='Prep837')"
   ]
  },
  {
   "cell_type": "code",
   "execution_count": 22,
   "id": "000c7d0a-5022-4cac-9c2c-f3b64ff3e0fa",
   "metadata": {},
   "outputs": [],
   "source": [
    "# # Get unique Medicaid IDs from both dataframes\n",
    "# medicaid_ids_df2 = set(df2['MEDICAID ID'].unique())\n",
    "# medicaid_ids_grouped = set(grouped_df['MEDICAID ID'].unique())\n",
    "\n",
    "# # Find extra Medicaid IDs in df2 (not in grouped_df)\n",
    "# extra_in_df2 = medicaid_ids_df2 - medicaid_ids_grouped\n",
    "\n",
    "# # Find extra Medicaid IDs in grouped_df (not in df2)\n",
    "# extra_in_grouped = medicaid_ids_grouped - medicaid_ids_df2\n",
    "\n",
    "# print(\"Medicaid IDs in df2 but not in grouped_df:\")\n",
    "# print(extra_in_df2)\n",
    "# print(\"\\nMedicaid IDs in grouped_df but not in df2:\")\n",
    "# print(extra_in_grouped)\n",
    "\n",
    "# # Show counts\n",
    "# print(f\"\\nTotal unique Medicaid IDs in df2: {len(medicaid_ids_df2)}\")\n",
    "# print(f\"Total unique Medicaid IDs in grouped_df: {len(medicaid_ids_grouped)}\")\n",
    "# print(f\"Number of extra IDs in df2: {len(extra_in_df2)}\")\n",
    "# print(f\"Number of extra IDs in grouped_df: {len(extra_in_grouped)}\")"
   ]
  },
  {
   "cell_type": "code",
   "execution_count": null,
   "id": "9620e617-40f7-4ed2-8850-723109d68766",
   "metadata": {},
   "outputs": [],
   "source": []
  }
 ],
 "metadata": {
  "kernelspec": {
   "display_name": "Python 3 (ipykernel)",
   "language": "python",
   "name": "python3"
  },
  "language_info": {
   "codemirror_mode": {
    "name": "ipython",
    "version": 3
   },
   "file_extension": ".py",
   "mimetype": "text/x-python",
   "name": "python",
   "nbconvert_exporter": "python",
   "pygments_lexer": "ipython3",
   "version": "3.11.9"
  }
 },
 "nbformat": 4,
 "nbformat_minor": 5
}
